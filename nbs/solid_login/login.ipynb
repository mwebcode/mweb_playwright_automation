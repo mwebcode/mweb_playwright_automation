{
 "cells": [
  {
   "cell_type": "code",
   "execution_count": null,
   "id": "71472188",
   "metadata": {},
   "outputs": [],
   "source": [
    "#"
   ]
  },
  {
   "cell_type": "code",
   "execution_count": null,
   "id": "1c1acf03",
   "metadata": {},
   "outputs": [],
   "source": [
    "# import pyaml module to \n",
    "import yaml\n",
    "from yaml.loader import SafeLoader"
   ]
  },
  {
   "cell_type": "markdown",
   "id": "956dfcb6",
   "metadata": {},
   "source": [
    "Open and load the settings file to grab credentials"
   ]
  },
  {
   "cell_type": "code",
   "execution_count": null,
   "id": "73344147",
   "metadata": {},
   "outputs": [],
   "source": [
    "credentials = None\n",
    "\n",
    "# open settings file and grab credentials \n",
    "with open(\"settings.yml\") as f:\n",
    "    credentials = yaml.load(f, Loader=SafeLoader)"
   ]
  },
  {
   "cell_type": "code",
   "execution_count": null,
   "id": "cd725dff",
   "metadata": {},
   "outputs": [
    {
     "data": {
      "text/plain": [
       "{'dev': {'username': 'GMohorotshe',\n",
       "  'password': '',\n",
       "  'baseUrl': 'https://solidportaldev.mwebaws.co.za/mwebcore/admin/login/login.jsp'},\n",
       " 'prod': {'username': 'GMohorotshe',\n",
       "  'password': '',\n",
       "  'baseUrl': 'https://solidportaldev.mwebaws.co.za/mwebcore/admin/login/login.jsp'}}"
      ]
     },
     "execution_count": null,
     "metadata": {},
     "output_type": "execute_result"
    }
   ],
   "source": [
    "credentials"
   ]
  },
  {
   "cell_type": "markdown",
   "id": "56417294",
   "metadata": {},
   "source": [
    "Our settings.yml stores dev and prod login credentials"
   ]
  },
  {
   "cell_type": "code",
   "execution_count": null,
   "id": "966c72e0",
   "metadata": {},
   "outputs": [],
   "source": [
    "#from playwright.sync_api import Page, expect\n",
    "\n",
    "class SolidLogin:\n",
    "    def __init__(self, baseUrl: str, username: str, password: str):\n",
    "        self.baseUrl = baseUrl"
   ]
  },
  {
   "cell_type": "code",
   "execution_count": null,
   "id": "ad2a9800",
   "metadata": {},
   "outputs": [],
   "source": []
  },
  {
   "cell_type": "code",
   "execution_count": null,
   "id": "35030daf",
   "metadata": {},
   "outputs": [],
   "source": []
  },
  {
   "cell_type": "code",
   "execution_count": null,
   "id": "7e1a16a0",
   "metadata": {},
   "outputs": [],
   "source": []
  },
  {
   "cell_type": "code",
   "execution_count": null,
   "id": "8ff4bf65",
   "metadata": {},
   "outputs": [],
   "source": []
  }
 ],
 "metadata": {
  "kernelspec": {
   "display_name": "Python 3 (ipykernel)",
   "language": "python",
   "name": "python3"
  }
 },
 "nbformat": 4,
 "nbformat_minor": 5
}
